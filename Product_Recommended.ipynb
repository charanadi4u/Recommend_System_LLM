{
 "cells": [
  {
   "cell_type": "code",
   "execution_count": 1,
   "id": "82b0e784-f450-4184-a099-b19af3d67120",
   "metadata": {},
   "outputs": [],
   "source": [
    "from transformers import AutoTokenizer, AutoModel\n",
    "import torch\n",
    "\n",
    "# Load a pre-trained model and tokenizer\n",
    "model_name = \"sentence-transformers/all-MiniLM-L6-v2\"\n",
    "tokenizer = AutoTokenizer.from_pretrained(model_name)\n",
    "model = AutoModel.from_pretrained(model_name)\n",
    "\n",
    "# Function to generate embeddings\n",
    "def get_embeddings(texts):\n",
    "    inputs = tokenizer(texts, return_tensors='pt', padding=True, truncation=True)\n",
    "    with torch.no_grad():\n",
    "        embeddings = model(**inputs).last_hidden_state.mean(dim=1)\n",
    "    return embeddings.numpy()\n",
    "\n",
    "# Example data\n",
    "texts = [\n",
    "    \"This is the first document.\",\n",
    "    \"This document is the second document.\",\n",
    "    \"And this is the third one.\",\n",
    "    \"Is this the first document?\"\n",
    "]\n",
    "\n",
    "# Generate embeddings for the texts\n",
    "embeddings = get_embeddings(texts)"
   ]
  },
  {
   "cell_type": "code",
   "execution_count": 2,
   "id": "d09571d4-53d7-4ee2-b1c2-72927c0f3bcc",
   "metadata": {},
   "outputs": [
    {
     "data": {
      "text/plain": [
       "(4, 384)"
      ]
     },
     "execution_count": 2,
     "metadata": {},
     "output_type": "execute_result"
    }
   ],
   "source": [
    "embeddings.shape"
   ]
  },
  {
   "cell_type": "code",
   "execution_count": 3,
   "id": "3ce20f7f-ad10-4c0d-919d-8e1b0ba30e5e",
   "metadata": {},
   "outputs": [],
   "source": [
    "import faiss\n",
    "\n",
    "# Create a Faiss index\n",
    "dimension = embeddings.shape[1]\n",
    "index = faiss.IndexFlatL2(dimension)\n",
    "\n",
    "# Add embeddings to the index\n",
    "index.add(embeddings)\n",
    "\n",
    "# Optionally, you can save the index to disk for later use\n",
    "faiss.write_index(index, \"faiss_index.bin\")"
   ]
  },
  {
   "cell_type": "code",
   "execution_count": null,
   "id": "eac7009b-6273-4626-8454-90975d324751",
   "metadata": {},
   "outputs": [],
   "source": [
    "from langchain.vectorstores import FAISS\n",
    "from langchain.embeddings.base import Embeddings\n",
    "from langchain.docstore import InMemoryDocstore\n",
    "from langchain.schema import Document\n",
    "\n",
    "# Custom embedding class\n",
    "class CustomEmbeddings(Embeddings):\n",
    "    def embed_documents(self, texts):\n",
    "        return get_embeddings(texts).tolist()\n",
    "\n",
    "    def embed_query(self, text):\n",
    "        return get_embeddings([text]).tolist()[0]\n",
    "\n",
    "# Create a list of Documents\n",
    "documents = [Document(page_content=text) for text in texts]\n",
    "\n",
    "# Create the FAISS vector store\n",
    "faiss_store = FAISS.from_documents(documents, CustomEmbeddings())\n",
    "\n",
    "# Save the FAISS index\n",
    "faiss_store.save_local(\"faiss_index\")\n",
    "\n",
    "# Load the FAISS index with dangerous deserialization allowed\n",
    "loaded_faiss_store = FAISS.load_local(\"faiss_index\", CustomEmbeddings(), allow_dangerous_deserialization=True)\n",
    "\n",
    "# Perform a similarity search\n",
    "query = \"Is this the first document?\"\n",
    "docs = loaded_faiss_store.similarity_search(query, k=2)\n",
    "\n",
    "print(\"Top 2 most similar documents:\")\n",
    "for doc in docs:\n",
    "    print(doc.page_content)\n"
   ]
  },
  {
   "cell_type": "code",
   "execution_count": 2,
   "id": "e68c1799-1aa3-41e9-99e8-ec3cdb5c29d5",
   "metadata": {},
   "outputs": [],
   "source": [
    "import datasets # hugging face datasets\n",
    "datasets.utils.logging.disable_progress_bar() "
   ]
  },
  {
   "cell_type": "code",
   "execution_count": 3,
   "id": "880b804d-101c-4519-bdc7-c445fb1e7359",
   "metadata": {},
   "outputs": [
    {
     "name": "stdout",
     "output_type": "stream",
     "text": [
      "DatasetDict({\n",
      "    train: Dataset({\n",
      "        features: ['product', 'category', 'description', 'text'],\n",
      "        num_rows: 21183\n",
      "    })\n",
      "})\n"
     ]
    }
   ],
   "source": [
    "# import dataset to hugging face dataset\n",
    "ds = datasets.load_dataset(\"xiyuez/red-dot-design-award-product-description\") \n",
    "print(ds)"
   ]
  },
  {
   "cell_type": "code",
   "execution_count": 5,
   "id": "cbd9f369-12f4-452d-bf19-41a5f66fb5a9",
   "metadata": {},
   "outputs": [
    {
     "name": "stdout",
     "output_type": "stream",
     "text": [
      "DatasetDict({\n",
      "    train: Dataset({\n",
      "        features: ['product', 'category', 'description', 'text'],\n",
      "        num_rows: 21183\n",
      "    })\n",
      "})\n",
      "train split DataFrame:\n",
      "                                           product  \\\n",
      "0                              Biamp Rack Products   \n",
      "1                                              V33   \n",
      "2  HP LaserJet 5000-6000 and E700-E800 Series MFPs   \n",
      "3                 Meaco Arete One 20L Dehumidifier   \n",
      "4       théATRE Glass Container for Loose Leaf Tea   \n",
      "\n",
      "                                  category  \\\n",
      "0                 Digital Audio Processors   \n",
      "1                             Video Camera   \n",
      "2                  Multi-Function Printers   \n",
      "3  Heating and Air Conditioning Technology   \n",
      "4                          Food Containers   \n",
      "\n",
      "                                         description  \\\n",
      "0  “High recognition value, uniform aesthetics an...   \n",
      "1  The V33 livestreaming video camera ensures hig...   \n",
      "2  The HP LaserJet 5000 to 6000 Series and E700 t...   \n",
      "3  The Meaco Arete One Dehumidifier is characteri...   \n",
      "4  The design and colouring of the théATRE Glass ...   \n",
      "\n",
      "                                                text  \n",
      "0  Product Name: Biamp Rack Products;\\n\\nProduct ...  \n",
      "1  Product Name: V33;\\n\\nProduct Category: Video ...  \n",
      "2  Product Name: HP LaserJet 5000-6000 and E700-E...  \n",
      "3  Product Name: Meaco Arete One 20L Dehumidifier...  \n",
      "4  Product Name: théATRE Glass Container for Loos...   \n",
      "\n"
     ]
    }
   ],
   "source": [
    "import datasets\n",
    "import pandas as pd\n",
    "\n",
    "# Load the dataset\n",
    "ds = datasets.load_dataset(\"xiyuez/red-dot-design-award-product-description\")\n",
    "\n",
    "# Print the dataset structure to inspect the available splits\n",
    "print(ds)\n",
    "\n",
    "# Convert the available splits to pandas DataFrames\n",
    "df_dict = {split: pd.DataFrame(ds[split]) for split in ds.keys()}\n",
    "\n",
    "# Print the DataFrames\n",
    "for split, df in df_dict.items():\n",
    "    print(f\"{split} split DataFrame:\")\n",
    "    print(df.head(), \"\\n\")\n"
   ]
  },
  {
   "cell_type": "code",
   "execution_count": 7,
   "id": "b99b949f-904e-4ed8-ad6b-15b90304b690",
   "metadata": {},
   "outputs": [
    {
     "data": {
      "text/plain": [
       "(21183, 4)"
      ]
     },
     "execution_count": 7,
     "metadata": {},
     "output_type": "execute_result"
    }
   ],
   "source": [
    "df.shape"
   ]
  },
  {
   "cell_type": "code",
   "execution_count": 8,
   "id": "44d319fc-dda9-4b16-a6aa-493a9f83cd15",
   "metadata": {},
   "outputs": [
    {
     "name": "stdout",
     "output_type": "stream",
     "text": [
      "Train dataset:\n",
      "Dataset({\n",
      "    features: ['product', 'category', 'description', 'text', '__index_level_0__'],\n",
      "    num_rows: 14828\n",
      "})\n",
      "\n",
      "Test dataset:\n",
      "Dataset({\n",
      "    features: ['product', 'category', 'description', 'text', '__index_level_0__'],\n",
      "    num_rows: 6355\n",
      "})\n"
     ]
    }
   ],
   "source": [
    "import datasets\n",
    "from datasets import Dataset\n",
    "from sklearn.model_selection import train_test_split\n",
    "import pandas as pd\n",
    "\n",
    "# Load the dataset\n",
    "ds = datasets.load_dataset(\"xiyuez/red-dot-design-award-product-description\")\n",
    "\n",
    "# Convert the dataset to a pandas DataFrame\n",
    "df = pd.DataFrame(ds['train'])\n",
    "\n",
    "# Split the DataFrame into train and test sets with a 70/30 ratio\n",
    "train_df, test_df = train_test_split(df, test_size=0.3, random_state=42)\n",
    "\n",
    "# Convert the pandas DataFrames back to Hugging Face Datasets\n",
    "train_dataset = Dataset.from_pandas(train_df)\n",
    "test_dataset = Dataset.from_pandas(test_df)\n",
    "\n",
    "# Print the dataset splits\n",
    "print(\"Train dataset:\")\n",
    "print(train_dataset)\n",
    "print(\"\\nTest dataset:\")\n",
    "print(test_dataset)\n"
   ]
  },
  {
   "cell_type": "code",
   "execution_count": 16,
   "id": "708ffb4e-7f24-4a44-ba08-d416aa4c663f",
   "metadata": {},
   "outputs": [
    {
     "name": "stdout",
     "output_type": "stream",
     "text": [
      "Sampled Train DataFrame:\n",
      "                   product              category  \\\n",
      "0         Harman Kardon BT  Bluetooth Headphones   \n",
      "1               ME02B Plus     Bluetooth Earbuds   \n",
      "2                IROAD X10               Dashcam   \n",
      "3                      Zoo                 Chair   \n",
      "4  GHOST AMR RIOT Lector 9         Mountain Bike   \n",
      "\n",
      "                                         description  \\\n",
      "0  The new BT headphones offer enhanced wearing c...   \n",
      "1  The intelligent Bluetooth neckband earbuds ME0...   \n",
      "2  The IROAD X10 is designed so that it does not ...   \n",
      "3  The Zoo collection is suited for large confere...   \n",
      "4  This bike combines detailed innovative solutio...   \n",
      "\n",
      "                                                text  \n",
      "0  Product Name: Harman Kardon BT;\\n\\nProduct Cat...  \n",
      "1  Product Name: ME02B Plus;\\n\\nProduct Category:...  \n",
      "2  Product Name: IROAD X10;\\n\\nProduct Category: ...  \n",
      "3  Product Name: Zoo;\\n\\nProduct Category: Chair;...  \n",
      "4  Product Name: GHOST AMR RIOT Lector 9;\\n\\nProd...  \n",
      "\n",
      "Sampled Test DataFrame:\n",
      "                     product                            category  \\\n",
      "0                GMX7 X1-PRO  Aquatic Resistance Training System   \n",
      "1               FLI 2088 SL+                       Induction Hob   \n",
      "2              BE WATER Lamp                 Decorative Lighting   \n",
      "3  Super＋ Series Smart Panel            Interior Design Elements   \n",
      "4               Caloray Disc                     Electric Heater   \n",
      "\n",
      "                                         description  \\\n",
      "0  The X1-PRO is an aquatic resistance training s...   \n",
      "1  This free-zone induction hob with six cooking ...   \n",
      "2  Designed for versatile use in public areas suc...   \n",
      "3  This is a multifunctional intelligent control ...   \n",
      "4  This circular heater without incandescent body...   \n",
      "\n",
      "                                                text  \n",
      "0  Product Name: GMX7 X1-PRO;\\n\\nProduct Category...  \n",
      "1  Product Name: FLI 2088 SL+;\\n\\nProduct Categor...  \n",
      "2  Product Name: BE WATER Lamp;\\n\\nProduct Catego...  \n",
      "3  Product Name: Super＋ Series Smart Panel;\\n\\nPr...  \n",
      "4  Product Name: Caloray Disc;\\n\\nProduct Categor...  \n"
     ]
    }
   ],
   "source": [
    "import datasets\n",
    "from sklearn.model_selection import train_test_split\n",
    "import pandas as pd\n",
    "\n",
    "# Load the dataset\n",
    "ds = datasets.load_dataset(\"xiyuez/red-dot-design-award-product-description\")\n",
    "\n",
    "# Convert the dataset to a pandas DataFrame\n",
    "df = pd.DataFrame(ds['train'])\n",
    "\n",
    "# Take 20% of the whole data\n",
    "df_sampled = df.sample(frac=0.2, random_state=42)\n",
    "\n",
    "# Split the sampled DataFrame into train and test sets with a 70/30 ratio\n",
    "train_df, test_df = train_test_split(df_sampled, test_size=0.3, random_state=42)\n",
    "\n",
    "# Reset the index for both train and test DataFrames\n",
    "train_df = train_df.reset_index(drop=True)\n",
    "test_df = test_df.reset_index(drop=True)\n",
    "\n",
    "# Print the DataFrames\n",
    "print(\"Sampled Train DataFrame:\")\n",
    "print(train_df.head())\n",
    "print(\"\\nSampled Test DataFrame:\")\n",
    "print(test_df.head())\n"
   ]
  },
  {
   "cell_type": "code",
   "execution_count": 17,
   "id": "de685f82-71f2-453a-9848-773c49333e7b",
   "metadata": {},
   "outputs": [
    {
     "data": {
      "text/html": [
       "<div>\n",
       "<style scoped>\n",
       "    .dataframe tbody tr th:only-of-type {\n",
       "        vertical-align: middle;\n",
       "    }\n",
       "\n",
       "    .dataframe tbody tr th {\n",
       "        vertical-align: top;\n",
       "    }\n",
       "\n",
       "    .dataframe thead th {\n",
       "        text-align: right;\n",
       "    }\n",
       "</style>\n",
       "<table border=\"1\" class=\"dataframe\">\n",
       "  <thead>\n",
       "    <tr style=\"text-align: right;\">\n",
       "      <th></th>\n",
       "      <th>product</th>\n",
       "      <th>category</th>\n",
       "      <th>description</th>\n",
       "      <th>text</th>\n",
       "    </tr>\n",
       "  </thead>\n",
       "  <tbody>\n",
       "    <tr>\n",
       "      <th>0</th>\n",
       "      <td>Harman Kardon BT</td>\n",
       "      <td>Bluetooth Headphones</td>\n",
       "      <td>The new BT headphones offer enhanced wearing c...</td>\n",
       "      <td>Product Name: Harman Kardon BT;\\n\\nProduct Cat...</td>\n",
       "    </tr>\n",
       "    <tr>\n",
       "      <th>1</th>\n",
       "      <td>ME02B Plus</td>\n",
       "      <td>Bluetooth Earbuds</td>\n",
       "      <td>The intelligent Bluetooth neckband earbuds ME0...</td>\n",
       "      <td>Product Name: ME02B Plus;\\n\\nProduct Category:...</td>\n",
       "    </tr>\n",
       "    <tr>\n",
       "      <th>2</th>\n",
       "      <td>IROAD X10</td>\n",
       "      <td>Dashcam</td>\n",
       "      <td>The IROAD X10 is designed so that it does not ...</td>\n",
       "      <td>Product Name: IROAD X10;\\n\\nProduct Category: ...</td>\n",
       "    </tr>\n",
       "    <tr>\n",
       "      <th>3</th>\n",
       "      <td>Zoo</td>\n",
       "      <td>Chair</td>\n",
       "      <td>The Zoo collection is suited for large confere...</td>\n",
       "      <td>Product Name: Zoo;\\n\\nProduct Category: Chair;...</td>\n",
       "    </tr>\n",
       "    <tr>\n",
       "      <th>4</th>\n",
       "      <td>GHOST AMR RIOT Lector 9</td>\n",
       "      <td>Mountain Bike</td>\n",
       "      <td>This bike combines detailed innovative solutio...</td>\n",
       "      <td>Product Name: GHOST AMR RIOT Lector 9;\\n\\nProd...</td>\n",
       "    </tr>\n",
       "  </tbody>\n",
       "</table>\n",
       "</div>"
      ],
      "text/plain": [
       "                   product              category  \\\n",
       "0         Harman Kardon BT  Bluetooth Headphones   \n",
       "1               ME02B Plus     Bluetooth Earbuds   \n",
       "2                IROAD X10               Dashcam   \n",
       "3                      Zoo                 Chair   \n",
       "4  GHOST AMR RIOT Lector 9         Mountain Bike   \n",
       "\n",
       "                                         description  \\\n",
       "0  The new BT headphones offer enhanced wearing c...   \n",
       "1  The intelligent Bluetooth neckband earbuds ME0...   \n",
       "2  The IROAD X10 is designed so that it does not ...   \n",
       "3  The Zoo collection is suited for large confere...   \n",
       "4  This bike combines detailed innovative solutio...   \n",
       "\n",
       "                                                text  \n",
       "0  Product Name: Harman Kardon BT;\\n\\nProduct Cat...  \n",
       "1  Product Name: ME02B Plus;\\n\\nProduct Category:...  \n",
       "2  Product Name: IROAD X10;\\n\\nProduct Category: ...  \n",
       "3  Product Name: Zoo;\\n\\nProduct Category: Chair;...  \n",
       "4  Product Name: GHOST AMR RIOT Lector 9;\\n\\nProd...  "
      ]
     },
     "execution_count": 17,
     "metadata": {},
     "output_type": "execute_result"
    }
   ],
   "source": [
    "train_df.head()"
   ]
  },
  {
   "cell_type": "code",
   "execution_count": 18,
   "id": "2c7c06a8-2692-4386-9063-f680f9c86957",
   "metadata": {},
   "outputs": [
    {
     "name": "stdout",
     "output_type": "stream",
     "text": [
      "First row of the 'text' column in the sampled Train DataFrame:\n",
      "Product Name: Harman Kardon BT;\n",
      "\n",
      "Product Category: Bluetooth Headphones;\n",
      "\n",
      "Product Description: The new BT headphones offer enhanced wearing comfort thanks to soft ear cups that adapt to the anatomy of the listener’s ear. They use Bluetooth for wireless audio transmission and also feature an integrated microphone. The side-mounted control buttons allow phone calls to be taken at any time. The rechargeable batteries power the headphones for up to 40 hours and can be easily recharged via a USB port.\n",
      "\n",
      "First row of the 'text' column in the sampled Test DataFrame:\n",
      "Product Name: GMX7 X1-PRO;\n",
      "\n",
      "Product Category: Aquatic Resistance Training System;\n",
      "\n",
      "Product Description: The X1-PRO is an aquatic resistance training system for swimmers of all skill-levels. A compact, anodised mechanism creates a bidirectional, variable resistance, its range spanning from free movability to immobility. It can be used up to distances of 50 metres and also offers stroke correction to deliver maximum training results. Performance is greatly enhanced due to its streamlined functionality and compact size, which also improves handling and portability.\n"
     ]
    }
   ],
   "source": [
    "# Print the first row of the 'text' column for both DataFrames\n",
    "print(\"First row of the 'text' column in the sampled Train DataFrame:\")\n",
    "print(train_df.loc[0, 'text'])\n",
    "\n",
    "print(\"\\nFirst row of the 'text' column in the sampled Test DataFrame:\")\n",
    "print(test_df.loc[0, 'text'])"
   ]
  },
  {
   "cell_type": "code",
   "execution_count": 19,
   "id": "3c2c212a-a518-4e3d-a222-d1de52ea0756",
   "metadata": {},
   "outputs": [
    {
     "name": "stdout",
     "output_type": "stream",
     "text": [
      "First row of the 'description' column in the sampled Train DataFrame:\n",
      "The new BT headphones offer enhanced wearing comfort thanks to soft ear cups that adapt to the anatomy of the listener’s ear. They use Bluetooth for wireless audio transmission and also feature an integrated microphone. The side-mounted control buttons allow phone calls to be taken at any time. The rechargeable batteries power the headphones for up to 40 hours and can be easily recharged via a USB port.\n",
      "\n",
      "First row of the 'description' column in the sampled Test DataFrame:\n",
      "The X1-PRO is an aquatic resistance training system for swimmers of all skill-levels. A compact, anodised mechanism creates a bidirectional, variable resistance, its range spanning from free movability to immobility. It can be used up to distances of 50 metres and also offers stroke correction to deliver maximum training results. Performance is greatly enhanced due to its streamlined functionality and compact size, which also improves handling and portability.\n"
     ]
    }
   ],
   "source": [
    "# Print the first row of the 'text' column for both DataFrames\n",
    "print(\"First row of the 'description' column in the sampled Train DataFrame:\")\n",
    "print(train_df.loc[0, 'description'])\n",
    "\n",
    "print(\"\\nFirst row of the 'description' column in the sampled Test DataFrame:\")\n",
    "print(test_df.loc[0, 'description'])"
   ]
  },
  {
   "cell_type": "code",
   "execution_count": 22,
   "id": "4c6138c6-de93-4f81-bd49-6fd03af4d47e",
   "metadata": {},
   "outputs": [],
   "source": [
    "from langchain.embeddings import HuggingFaceEmbeddings"
   ]
  },
  {
   "cell_type": "code",
   "execution_count": 23,
   "id": "4cda4a53-14a6-4b9e-bf97-336cf039f0da",
   "metadata": {},
   "outputs": [
    {
     "name": "stderr",
     "output_type": "stream",
     "text": [
      "G:\\Anaconda3\\Lib\\site-packages\\huggingface_hub\\file_download.py:1132: FutureWarning: `resume_download` is deprecated and will be removed in version 1.0.0. Downloads always resume when possible. If you want to force a new download, use `force_download=True`.\n",
      "  warnings.warn(\n",
      "G:\\Anaconda3\\Lib\\site-packages\\huggingface_hub\\file_download.py:1132: FutureWarning: `resume_download` is deprecated and will be removed in version 1.0.0. Downloads always resume when possible. If you want to force a new download, use `force_download=True`.\n",
      "  warnings.warn(\n"
     ]
    }
   ],
   "source": [
    "embedding_function = HuggingFaceEmbeddings(model_name=\"sentence-transformers/all-MiniLM-L6-v2\", \n",
    "                                           model_kwargs={'device': 'cpu'})"
   ]
  },
  {
   "cell_type": "code",
   "execution_count": 25,
   "id": "b9a69a01-c2aa-469a-ad54-f5d5c04b82e4",
   "metadata": {},
   "outputs": [],
   "source": [
    "def embed_text(text):\n",
    "    return embedding_function.embed_query(text)\n",
    "\n",
    "# Apply the embedding function to the 'text' column\n",
    "train_df['embeddings'] = train_df['text'].apply(embed_text)"
   ]
  },
  {
   "cell_type": "code",
   "execution_count": 26,
   "id": "a1cece17-ce0b-4dfe-b634-3da8eaff7a88",
   "metadata": {},
   "outputs": [
    {
     "data": {
      "text/html": [
       "<div>\n",
       "<style scoped>\n",
       "    .dataframe tbody tr th:only-of-type {\n",
       "        vertical-align: middle;\n",
       "    }\n",
       "\n",
       "    .dataframe tbody tr th {\n",
       "        vertical-align: top;\n",
       "    }\n",
       "\n",
       "    .dataframe thead th {\n",
       "        text-align: right;\n",
       "    }\n",
       "</style>\n",
       "<table border=\"1\" class=\"dataframe\">\n",
       "  <thead>\n",
       "    <tr style=\"text-align: right;\">\n",
       "      <th></th>\n",
       "      <th>product</th>\n",
       "      <th>category</th>\n",
       "      <th>description</th>\n",
       "      <th>text</th>\n",
       "      <th>embeddings</th>\n",
       "    </tr>\n",
       "  </thead>\n",
       "  <tbody>\n",
       "    <tr>\n",
       "      <th>0</th>\n",
       "      <td>Harman Kardon BT</td>\n",
       "      <td>Bluetooth Headphones</td>\n",
       "      <td>The new BT headphones offer enhanced wearing c...</td>\n",
       "      <td>Product Name: Harman Kardon BT;\\n\\nProduct Cat...</td>\n",
       "      <td>[-0.06693495810031891, 0.05769552290439606, 0....</td>\n",
       "    </tr>\n",
       "    <tr>\n",
       "      <th>1</th>\n",
       "      <td>ME02B Plus</td>\n",
       "      <td>Bluetooth Earbuds</td>\n",
       "      <td>The intelligent Bluetooth neckband earbuds ME0...</td>\n",
       "      <td>Product Name: ME02B Plus;\\n\\nProduct Category:...</td>\n",
       "      <td>[-0.04429144784808159, 0.02171323075890541, 0....</td>\n",
       "    </tr>\n",
       "    <tr>\n",
       "      <th>2</th>\n",
       "      <td>IROAD X10</td>\n",
       "      <td>Dashcam</td>\n",
       "      <td>The IROAD X10 is designed so that it does not ...</td>\n",
       "      <td>Product Name: IROAD X10;\\n\\nProduct Category: ...</td>\n",
       "      <td>[-0.05515052005648613, 0.04215111583471298, -0...</td>\n",
       "    </tr>\n",
       "    <tr>\n",
       "      <th>3</th>\n",
       "      <td>Zoo</td>\n",
       "      <td>Chair</td>\n",
       "      <td>The Zoo collection is suited for large confere...</td>\n",
       "      <td>Product Name: Zoo;\\n\\nProduct Category: Chair;...</td>\n",
       "      <td>[0.036150287836790085, 0.04856966808438301, -0...</td>\n",
       "    </tr>\n",
       "    <tr>\n",
       "      <th>4</th>\n",
       "      <td>GHOST AMR RIOT Lector 9</td>\n",
       "      <td>Mountain Bike</td>\n",
       "      <td>This bike combines detailed innovative solutio...</td>\n",
       "      <td>Product Name: GHOST AMR RIOT Lector 9;\\n\\nProd...</td>\n",
       "      <td>[-0.08179118484258652, 0.10800202935934067, 0....</td>\n",
       "    </tr>\n",
       "  </tbody>\n",
       "</table>\n",
       "</div>"
      ],
      "text/plain": [
       "                   product              category  \\\n",
       "0         Harman Kardon BT  Bluetooth Headphones   \n",
       "1               ME02B Plus     Bluetooth Earbuds   \n",
       "2                IROAD X10               Dashcam   \n",
       "3                      Zoo                 Chair   \n",
       "4  GHOST AMR RIOT Lector 9         Mountain Bike   \n",
       "\n",
       "                                         description  \\\n",
       "0  The new BT headphones offer enhanced wearing c...   \n",
       "1  The intelligent Bluetooth neckband earbuds ME0...   \n",
       "2  The IROAD X10 is designed so that it does not ...   \n",
       "3  The Zoo collection is suited for large confere...   \n",
       "4  This bike combines detailed innovative solutio...   \n",
       "\n",
       "                                                text  \\\n",
       "0  Product Name: Harman Kardon BT;\\n\\nProduct Cat...   \n",
       "1  Product Name: ME02B Plus;\\n\\nProduct Category:...   \n",
       "2  Product Name: IROAD X10;\\n\\nProduct Category: ...   \n",
       "3  Product Name: Zoo;\\n\\nProduct Category: Chair;...   \n",
       "4  Product Name: GHOST AMR RIOT Lector 9;\\n\\nProd...   \n",
       "\n",
       "                                          embeddings  \n",
       "0  [-0.06693495810031891, 0.05769552290439606, 0....  \n",
       "1  [-0.04429144784808159, 0.02171323075890541, 0....  \n",
       "2  [-0.05515052005648613, 0.04215111583471298, -0...  \n",
       "3  [0.036150287836790085, 0.04856966808438301, -0...  \n",
       "4  [-0.08179118484258652, 0.10800202935934067, 0....  "
      ]
     },
     "execution_count": 26,
     "metadata": {},
     "output_type": "execute_result"
    }
   ],
   "source": [
    "train_df.head()"
   ]
  },
  {
   "cell_type": "code",
   "execution_count": 27,
   "id": "5ca4753d-766c-4ec0-8f7e-8c2f188c6f85",
   "metadata": {},
   "outputs": [],
   "source": [
    "test_df['embeddings'] = train_df['text'].apply(embed_text)"
   ]
  },
  {
   "cell_type": "code",
   "execution_count": 28,
   "id": "c8bca845-2229-4b24-8645-e474e635fedb",
   "metadata": {},
   "outputs": [],
   "source": [
    "from langchain.vectorstores import FAISS\n",
    "import numpy as np"
   ]
  },
  {
   "cell_type": "code",
   "execution_count": 29,
   "id": "8712adf9-1693-4106-b235-b50de52edd96",
   "metadata": {},
   "outputs": [],
   "source": [
    "# Prepare the embeddings and texts for FAISS\n",
    "train_embeddings = np.vstack(train_df['embeddings'].values)\n",
    "train_texts = train_df['text'].values"
   ]
  },
  {
   "cell_type": "code",
   "execution_count": 33,
   "id": "a3a673cb-962a-44bc-81b2-4870d2611cf6",
   "metadata": {},
   "outputs": [],
   "source": [
    "# Create the FAISS index\n",
    "from langchain.docstore import InMemoryDocstore\n",
    "from langchain.docstore.document import Document\n",
    "import numpy as np\n",
    "# Create documents for the FAISS index\n",
    "documents = [Document(page_content=text) for text in train_texts]"
   ]
  },
  {
   "cell_type": "code",
   "execution_count": 36,
   "id": "44f16de4-ca1c-454d-a58d-a07d6c38bbae",
   "metadata": {},
   "outputs": [],
   "source": [
    "# Create an InMemoryDocstore\n",
    "# Create an InMemoryDocstore\n",
    "docstore = InMemoryDocstore({str(i): doc for i, doc in enumerate(documents)})"
   ]
  },
  {
   "cell_type": "code",
   "execution_count": 37,
   "id": "81d23f2a-b5d0-4965-9a67-c5f754fefed5",
   "metadata": {},
   "outputs": [],
   "source": [
    "# Create an index_to_docstore_id mapping\n",
    "index_to_docstore_id = {i: str(i) for i in range(len(documents))}"
   ]
  },
  {
   "cell_type": "code",
   "execution_count": 45,
   "id": "f646aa8f-96a5-41d2-a5c1-2078cd919630",
   "metadata": {},
   "outputs": [],
   "source": [
    "# Create the FAISS index\n",
    "import faiss\n",
    "dimension = train_embeddings.shape[1]\n",
    "faiss_index = faiss.IndexFlatL2(dimension)\n",
    "faiss_index.add(train_embeddings)"
   ]
  },
  {
   "cell_type": "code",
   "execution_count": 47,
   "id": "7642c7c8-8220-4ca6-8468-2602623a8cc5",
   "metadata": {},
   "outputs": [
    {
     "name": "stderr",
     "output_type": "stream",
     "text": [
      "`embedding_function` is expected to be an Embeddings object, support for passing in a function will soon be removed.\n"
     ]
    }
   ],
   "source": [
    "# Wrap the FAISS index with LangChain's FAISS class\n",
    "vectorstore = FAISS(embedding_function.embed_query, faiss_index, docstore, index_to_docstore_id)"
   ]
  },
  {
   "cell_type": "code",
   "execution_count": 48,
   "id": "50ce1d0c-b14a-41b3-b61f-c92ea7f061c0",
   "metadata": {},
   "outputs": [],
   "source": [
    "# Define a function for similarity search\n",
    "def similarity_search(query, k=5):\n",
    "    query_embedding = np.array(embed_text(query)).reshape(1, -1)\n",
    "    results = vectorstore.similarity_search_by_vector(query_embedding[0], k=k)\n",
    "    return results"
   ]
  },
  {
   "cell_type": "code",
   "execution_count": 49,
   "id": "4f5450d7-082d-47d9-9d9b-b319b7a7a5f6",
   "metadata": {},
   "outputs": [
    {
     "name": "stdout",
     "output_type": "stream",
     "text": [
      "Similarity search results for query: innovative product design\n",
      "Text: Product Name: Fresh Sense of Humanity;\n",
      "\n",
      "Product Category: Private Living Space;\n",
      "\n",
      "Product Description: The concept of this interior design sets itself the challenge of communicating unmistakable personal taste and rich cultural literacy. The design takes Nordic style as its inspiration. The overall impression is dominated by clean lines, the use of much light wood and a colour concept based on harmonious natural tones. An arresting eye-catcher in the living area is the TV wall which is made up of different, carefully colour-coordinated panels that are reminiscent of slightly weathered wood.\n",
      "Text: Product Name: Design Inspiration Kit;\n",
      "\n",
      "Product Category: Sample Set;\n",
      "\n",
      "Product Description: The Design Inspiration Kit demonstrates the technical capabilities of the manufacturer’s proprietary 3D printer. The central design element resembles a stone whose shape makes it pleasant to hold and which served as the starting point for various processing stages. It has been cut, coated, divided into different layers or given different colours so that each of the twelve elements represents one of the printer’s special functions. This coherent and aesthetically pleasing set can be expanded to visualise new additional printing options in future.\n",
      "Text: Product Name: Nanjing Jingdi Fenghua Southwest;\n",
      "\n",
      "Product Category: Sales Centre;\n",
      "\n",
      "Product Description: The design concept for this sales centre achieves a harmonious balance between the traditional and the contemporary. It is based on a traditional design idiom that seamlessly connects with modern Far Eastern aesthetics. The interplay of space and furniture is used as an important design feature in the presentation of the individual units which are held together with the help of traditional Asian elements. The elegant design in restrained but warm colours primarily uses natural materials such as wood and marble.\n",
      "Text: Product Name: X-ray 3D Präsentation;\n",
      "\n",
      "Product Category: Product Presentation;\n",
      "\n",
      "Product Description: An unusual presentation technique was developed for Evonik Industries’ appearance at the “K 2010” plastics trade fair. The challenge was to explain how the plastic components of the car industry supplier, which are embedded in the car body and normally not visible, work. The solution was a movable touch-sensitive display which produced an “X ray” image in real time of the car’s interior, as well as information about the components.\n",
      "Text: Product Name: The Eclipse;\n",
      "\n",
      "Product Category: Atomiser;\n",
      "\n",
      "Product Description: The design of The Eclipse atomiser is based on a new concept of the tried-and-tested manual atomiser. Designed in the shape of a disc, it breaks with the standard vertical spray bottle. This is only possible because an electronically assisted spray function from a closed container replaces the pump-injection spray process. “The innovative functionality of the spray is reflected here in a design that is as elegant as it is practical,” the jury said in praise of The Eclipse. Made from recycled aluminium and biodegradable PLA material, the atomiser also fits into any pocket and blends in with other cosmetic products.\n"
     ]
    }
   ],
   "source": [
    "# Example similarity search\n",
    "query = \"innovative product design\"\n",
    "results = similarity_search(query, k=5)\n",
    "\n",
    "# Print the results\n",
    "print(\"Similarity search results for query:\", query)\n",
    "for result in results:\n",
    "    print(f\"Text: {result.page_content}\")"
   ]
  },
  {
   "cell_type": "code",
   "execution_count": 1,
   "id": "a52ed3db-2fa4-4dac-83eb-6e6de27b36cd",
   "metadata": {},
   "outputs": [
    {
     "name": "stderr",
     "output_type": "stream",
     "text": [
      "INFO:sentence_transformers.SentenceTransformer:Load pretrained SentenceTransformer: sentence-transformers/all-MiniLM-L6-v2\n",
      "G:\\Anaconda3\\Lib\\site-packages\\huggingface_hub\\file_download.py:1132: FutureWarning: `resume_download` is deprecated and will be removed in version 1.0.0. Downloads always resume when possible. If you want to force a new download, use `force_download=True`.\n",
      "  warnings.warn(\n",
      "G:\\Anaconda3\\Lib\\site-packages\\huggingface_hub\\file_download.py:1132: FutureWarning: `resume_download` is deprecated and will be removed in version 1.0.0. Downloads always resume when possible. If you want to force a new download, use `force_download=True`.\n",
      "  warnings.warn(\n",
      "INFO:__main__:Loading dataset...\n",
      "INFO:__main__:Dataset loaded and split into train and test sets.\n",
      "INFO:__main__:Creating embeddings for the text column...\n",
      "INFO:__main__:Embeddings created.\n",
      "INFO:__main__:Setting up FAISS index...\n",
      "WARNING:langchain_community.vectorstores.faiss:`embedding_function` is expected to be an Embeddings object, support for passing in a function will soon be removed.\n",
      "INFO:__main__:FAISS index set up.\n",
      "INFO:__main__:Performing similarity search for query: innovative product design\n",
      "INFO:__main__:Similarity search results:\n",
      "INFO:__main__:Text: Product Name: Fresh Sense of Humanity;\n",
      "\n",
      "Product Category: Private Living Space;\n",
      "\n",
      "Product Description: The concept of this interior design sets itself the challenge of communicating unmistakable personal taste and rich cultural literacy. The design takes Nordic style as its inspiration. The overall impression is dominated by clean lines, the use of much light wood and a colour concept based on harmonious natural tones. An arresting eye-catcher in the living area is the TV wall which is made up of different, carefully colour-coordinated panels that are reminiscent of slightly weathered wood.\n",
      "INFO:__main__:Text: Product Name: Design Inspiration Kit;\n",
      "\n",
      "Product Category: Sample Set;\n",
      "\n",
      "Product Description: The Design Inspiration Kit demonstrates the technical capabilities of the manufacturer’s proprietary 3D printer. The central design element resembles a stone whose shape makes it pleasant to hold and which served as the starting point for various processing stages. It has been cut, coated, divided into different layers or given different colours so that each of the twelve elements represents one of the printer’s special functions. This coherent and aesthetically pleasing set can be expanded to visualise new additional printing options in future.\n",
      "INFO:__main__:Text: Product Name: Nanjing Jingdi Fenghua Southwest;\n",
      "\n",
      "Product Category: Sales Centre;\n",
      "\n",
      "Product Description: The design concept for this sales centre achieves a harmonious balance between the traditional and the contemporary. It is based on a traditional design idiom that seamlessly connects with modern Far Eastern aesthetics. The interplay of space and furniture is used as an important design feature in the presentation of the individual units which are held together with the help of traditional Asian elements. The elegant design in restrained but warm colours primarily uses natural materials such as wood and marble.\n",
      "INFO:__main__:Text: Product Name: X-ray 3D Präsentation;\n",
      "\n",
      "Product Category: Product Presentation;\n",
      "\n",
      "Product Description: An unusual presentation technique was developed for Evonik Industries’ appearance at the “K 2010” plastics trade fair. The challenge was to explain how the plastic components of the car industry supplier, which are embedded in the car body and normally not visible, work. The solution was a movable touch-sensitive display which produced an “X ray” image in real time of the car’s interior, as well as information about the components.\n",
      "INFO:__main__:Text: Product Name: The Eclipse;\n",
      "\n",
      "Product Category: Atomiser;\n",
      "\n",
      "Product Description: The design of The Eclipse atomiser is based on a new concept of the tried-and-tested manual atomiser. Designed in the shape of a disc, it breaks with the standard vertical spray bottle. This is only possible because an electronically assisted spray function from a closed container replaces the pump-injection spray process. “The innovative functionality of the spray is reflected here in a design that is as elegant as it is practical,” the jury said in praise of The Eclipse. Made from recycled aluminium and biodegradable PLA material, the atomiser also fits into any pocket and blends in with other cosmetic products.\n"
     ]
    }
   ],
   "source": [
    "import datasets\n",
    "from sklearn.model_selection import train_test_split\n",
    "import pandas as pd\n",
    "from langchain.embeddings import HuggingFaceEmbeddings\n",
    "from langchain.vectorstores import FAISS\n",
    "from langchain.docstore import InMemoryDocstore\n",
    "from langchain.docstore.document import Document\n",
    "import numpy as np\n",
    "import faiss\n",
    "import logging\n",
    "\n",
    "# Configure logging\n",
    "logging.basicConfig(level=logging.INFO)\n",
    "logger = logging.getLogger(__name__)\n",
    "\n",
    "class ProductDescriptionSimilaritySearch:\n",
    "    def __init__(self, dataset_name, sample_frac=0.2, train_test_ratio=0.7, embedding_model=\"sentence-transformers/all-MiniLM-L6-v2\"):\n",
    "        self.dataset_name = dataset_name\n",
    "        self.sample_frac = sample_frac\n",
    "        self.train_test_ratio = train_test_ratio\n",
    "        self.embedding_model = embedding_model\n",
    "        self.embedding_function = HuggingFaceEmbeddings(model_name=self.embedding_model, model_kwargs={'device': 'cpu'})\n",
    "        self.train_df = None\n",
    "        self.test_df = None\n",
    "        self.vectorstore = None\n",
    "\n",
    "    def load_dataset(self):\n",
    "        logger.info(\"Loading dataset...\")\n",
    "        ds = datasets.load_dataset(self.dataset_name)\n",
    "        df = pd.DataFrame(ds['train'])\n",
    "        df_sampled = df.sample(frac=self.sample_frac, random_state=42)\n",
    "        train_df, test_df = train_test_split(df_sampled, test_size=1 - self.train_test_ratio, random_state=42)\n",
    "        self.train_df = train_df.reset_index(drop=True)\n",
    "        self.test_df = test_df.reset_index(drop=True)\n",
    "        logger.info(\"Dataset loaded and split into train and test sets.\")\n",
    "\n",
    "    def embed_text(self, text):\n",
    "        return self.embedding_function.embed_query(text)\n",
    "\n",
    "    def create_embeddings(self):\n",
    "        logger.info(\"Creating embeddings for the text column...\")\n",
    "        self.train_df['embeddings'] = self.train_df['text'].apply(self.embed_text)\n",
    "        self.test_df['embeddings'] = self.test_df['text'].apply(self.embed_text)\n",
    "        logger.info(\"Embeddings created.\")\n",
    "\n",
    "    def setup_faiss_index(self):\n",
    "        logger.info(\"Setting up FAISS index...\")\n",
    "        train_embeddings = np.vstack(self.train_df['embeddings'].values)\n",
    "        train_texts = self.train_df['text'].values\n",
    "        documents = [Document(page_content=text) for text in train_texts]\n",
    "        docstore = InMemoryDocstore({str(i): doc for i, doc in enumerate(documents)})\n",
    "        index_to_docstore_id = {i: str(i) for i in range(len(documents))}\n",
    "        dimension = train_embeddings.shape[1]\n",
    "        faiss_index = faiss.IndexFlatL2(dimension)\n",
    "        faiss_index.add(train_embeddings)\n",
    "        self.vectorstore = FAISS(self.embedding_function.embed_query, faiss_index, docstore, index_to_docstore_id)\n",
    "        logger.info(\"FAISS index set up.\")\n",
    "\n",
    "    def similarity_search(self, query, k=5):\n",
    "        logger.info(f\"Performing similarity search for query: {query}\")\n",
    "        query_embedding = np.array(self.embed_text(query)).reshape(1, -1)\n",
    "        results = self.vectorstore.similarity_search_by_vector(query_embedding[0], k=k)\n",
    "        return results\n",
    "\n",
    "# Example usage\n",
    "if __name__ == \"__main__\":\n",
    "    searcher = ProductDescriptionSimilaritySearch(dataset_name=\"xiyuez/red-dot-design-award-product-description\")\n",
    "    searcher.load_dataset()\n",
    "    searcher.create_embeddings()\n",
    "    searcher.setup_faiss_index()\n",
    "    \n",
    "    query = \"innovative product design\"\n",
    "    results = searcher.similarity_search(query, k=5)\n",
    "    \n",
    "    logger.info(\"Similarity search results:\")\n",
    "    for result in results:\n",
    "        logger.info(f\"Text: {result.page_content}\")\n"
   ]
  },
  {
   "cell_type": "code",
   "execution_count": null,
   "id": "6faf7177-344e-4c3c-8a27-d7fd882e7521",
   "metadata": {},
   "outputs": [],
   "source": []
  }
 ],
 "metadata": {
  "kernelspec": {
   "display_name": "Python 3 (ipykernel)",
   "language": "python",
   "name": "python3"
  },
  "language_info": {
   "codemirror_mode": {
    "name": "ipython",
    "version": 3
   },
   "file_extension": ".py",
   "mimetype": "text/x-python",
   "name": "python",
   "nbconvert_exporter": "python",
   "pygments_lexer": "ipython3",
   "version": "3.11.7"
  }
 },
 "nbformat": 4,
 "nbformat_minor": 5
}
